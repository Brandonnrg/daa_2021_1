{
  "nbformat": 4,
  "nbformat_minor": 0,
  "metadata": {
    "colab": {
      "name": "Untitled0.ipynb",
      "provenance": [],
      "authorship_tag": "ABX9TyO7qJVv9hPaUUq0D0/Vow2n",
      "include_colab_link": true
    },
    "kernelspec": {
      "name": "python3",
      "display_name": "Python 3"
    }
  },
  "cells": [
    {
      "cell_type": "markdown",
      "metadata": {
        "id": "view-in-github",
        "colab_type": "text"
      },
      "source": [
        "<a href=\"https://colab.research.google.com/github/Brandonnrg/daa_2021_1/blob/master/30Septiembre.ipynb\" target=\"_parent\"><img src=\"https://colab.research.google.com/assets/colab-badge.svg\" alt=\"Open In Colab\"/></a>"
      ]
    },
    {
      "cell_type": "markdown",
      "metadata": {
        "id": "eqdPYN_0QHyj"
      },
      "source": [
        "# Palindromos \n",
        "Es una palabra que se lee de igual forma de un sentido y de sentido inverso, ejemplo:\n",
        "1. Sugus\n",
        "2. oso\n",
        "3. reconocer\n",
        "4. 1010\n",
        "5. 10:10\n",
        "etc.\n",
        "\n",
        "### Planteamiento del problema\n",
        "Se desea encontrar todos los palindromos que existen en la franja de un dia completo, toamndo como horario inicial las 00:00 y como horario final las 23:59.\n",
        "\n",
        "El algoritmo debe mostrar en pantalla todos los palindromos existentes en ese rango, al final debe mostrar el conteo de total de palindromos existentes.\n"
      ]
    },
    {
      "cell_type": "code",
      "metadata": {
        "id": "nsVUZ2QmP9Xg",
        "outputId": "9a4bd14c-e77d-4132-ec5a-40e8de387837",
        "colab": {
          "base_uri": "https://localhost:8080/",
          "height": 319
        }
      },
      "source": [
        "# Solucion\n",
        "\n",
        "contador=0\n",
        "\n",
        "for hora in range(0, 24, 1):\n",
        "  for min in range(0,60, 1):\n",
        "\n",
        "   h = str(hora) \n",
        "   m = str(min)\n",
        "\n",
        "   if (hora<10):  \n",
        "      h = (\"0\"+h)\n",
        "\n",
        "   if (min<10):\n",
        "      m = (\"0\"+ m)\n",
        "\n",
        "   if (h[::-1] == m):\n",
        "      print (\"{}:{}\".format(h, m))\n",
        "      contador += 1\n",
        "print(\"Contador de palíndromos: {}\".format(str(contador)))\n",
        "\n",
        "           \n"
      ],
      "execution_count": 25,
      "outputs": [
        {
          "output_type": "stream",
          "text": [
            "00:00\n",
            "01:10\n",
            "02:20\n",
            "03:30\n",
            "04:40\n",
            "05:50\n",
            "10:01\n",
            "11:11\n",
            "12:21\n",
            "13:31\n",
            "14:41\n",
            "15:51\n",
            "20:02\n",
            "21:12\n",
            "22:22\n",
            "23:32\n",
            "Contador de palíndromos: 16\n"
          ],
          "name": "stdout"
        }
      ]
    }
  ]
}