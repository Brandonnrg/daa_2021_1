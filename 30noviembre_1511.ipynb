{
  "nbformat": 4,
  "nbformat_minor": 0,
  "metadata": {
    "colab": {
      "name": "30noviembre_1511.ipynb",
      "provenance": [],
      "authorship_tag": "ABX9TyM//fX0Bipd8YxDDe3MhnoR",
      "include_colab_link": true
    },
    "kernelspec": {
      "name": "python3",
      "display_name": "Python 3"
    }
  },
  "cells": [
    {
      "cell_type": "markdown",
      "metadata": {
        "id": "view-in-github",
        "colab_type": "text"
      },
      "source": [
        "<a href=\"https://colab.research.google.com/github/Brandonnrg/daa_2021_1/blob/master/30noviembre_1511.ipynb\" target=\"_parent\"><img src=\"https://colab.research.google.com/assets/colab-badge.svg\" alt=\"Open In Colab\"/></a>"
      ]
    },
    {
      "cell_type": "code",
      "metadata": {
        "colab": {
          "base_uri": "https://localhost:8080/"
        },
        "id": "kTJqR2plnGbH",
        "outputId": "85423a5f-80a6-460b-f3a5-35b50f5728e7"
      },
      "source": [
        "A = \"AELASESLALSALSALSALSALSALASLSLSLSLSALALALALASALSALLSALAS\"\n",
        "P = \"LAS\"\n",
        "N = len(A)\n",
        "M = len(P)\n",
        "\n",
        "def fuerza_bruta(A , P):\n",
        "    for i in range (N-M+1):\n",
        "        for j in range (M):\n",
        "            if A[i+j] == P[j]:\n",
        "                break\n",
        "            else:\n",
        "                pass\n",
        "        if j+1 == M and A[i + j] == P[j]:\n",
        "            print(\"Encontrado en la posicion:\", i)\n",
        "\n",
        "fuerza_bruta(A,P)\n",
        "#O(N-M) * M)"
      ],
      "execution_count": 3,
      "outputs": [
        {
          "output_type": "stream",
          "text": [
            "Encontrado en la posicion: 4\n",
            "Encontrado en la posicion: 8\n",
            "Encontrado en la posicion: 11\n",
            "Encontrado en la posicion: 14\n",
            "Encontrado en la posicion: 17\n",
            "Encontrado en la posicion: 20\n",
            "Encontrado en la posicion: 26\n",
            "Encontrado en la posicion: 28\n",
            "Encontrado en la posicion: 30\n",
            "Encontrado en la posicion: 32\n",
            "Encontrado en la posicion: 45\n"
          ],
          "name": "stdout"
        }
      ]
    }
  ]
}