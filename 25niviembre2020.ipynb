{
  "nbformat": 4,
  "nbformat_minor": 0,
  "metadata": {
    "colab": {
      "name": "25niviembre2020.ipynb",
      "provenance": [],
      "authorship_tag": "ABX9TyO67wAT1J2JSgnKeYcbWJbr",
      "include_colab_link": true
    },
    "kernelspec": {
      "name": "python3",
      "display_name": "Python 3"
    }
  },
  "cells": [
    {
      "cell_type": "markdown",
      "metadata": {
        "id": "view-in-github",
        "colab_type": "text"
      },
      "source": [
        "<a href=\"https://colab.research.google.com/github/Brandonnrg/daa_2021_1/blob/master/25niviembre2020.ipynb\" target=\"_parent\"><img src=\"https://colab.research.google.com/assets/colab-badge.svg\" alt=\"Open In Colab\"/></a>"
      ]
    },
    {
      "cell_type": "code",
      "metadata": {
        "colab": {
          "base_uri": "https://localhost:8080/"
        },
        "id": "nGSr4xcS_C2o",
        "outputId": "254024b8-d2e5-4d53-e763-2796edf26e7a"
      },
      "source": [
        "frase= \"\"\"El lema que anima a la Universidad Nacional, Por mi raza hablará el espíritu, revela la vocación humanística con la que fue concebida. El autor de esta célebre frase, José Vasconcelos, asumió la rectoría en 1920, en una época en que las esperanzas de la Revolución aún estaban vivas,\n",
        " había una gran fé en la Patria y el ánimo redentor se extendía en el ambiente.\"\"\"\n",
        "\n",
        "frase = frase.strip().replace(\"\\n\", \" \").replace(\",\",\" \").replace(\".\",\"\").lower().split(\" \")\n",
        "print (frase)\n",
        "frecuencias= {}\n",
        "for index in range (len(frase)):\n",
        "    if frase[index] in frecuencias: #'el' in frecuencias:\n",
        "        pass\n",
        "    else: \n",
        "        frecuencias[frase[index]] =  1\n",
        "\n",
        "    for pivote in range (index +1, len(frase),1):\n",
        "       # print (frase[index], \"Comparada contra: \", frase[ pivote ])\n",
        "      if frase [index] == frase[pivote]:\n",
        "        frecuencias[frase[index]] += 1\n",
        "\n",
        "print (frecuencias)\n"
      ],
      "execution_count": 5,
      "outputs": [
        {
          "output_type": "stream",
          "text": [
            "['el', 'lema', 'que', 'anima', 'a', 'la', 'universidad', 'nacional', '', 'por', 'mi', 'raza', 'hablará', 'el', 'espíritu', '', 'revela', 'la', 'vocación', 'humanística', 'con', 'la', 'que', 'fue', 'concebida', 'el', 'autor', 'de', 'esta', 'célebre', 'frase', '', 'josé', 'vasconcelos', '', 'asumió', 'la', 'rectoría', 'en', '1920', '', 'en', 'una', 'época', 'en', 'que', 'las', 'esperanzas', 'de', 'la', 'revolución', 'aún', 'estaban', 'vivas', '', '', 'había', 'una', 'gran', 'fé', 'en', 'la', 'patria', 'y', 'el', 'ánimo', 'redentor', 'se', 'extendía', 'en', 'el', 'ambiente']\n",
            "{'el': 11, 'lema': 1, 'que': 4, 'anima': 1, 'a': 1, 'la': 16, 'universidad': 1, 'nacional': 1, '': 22, 'por': 1, 'mi': 1, 'raza': 1, 'hablará': 1, 'espíritu': 1, 'revela': 1, 'vocación': 1, 'humanística': 1, 'con': 1, 'fue': 1, 'concebida': 1, 'autor': 1, 'de': 2, 'esta': 1, 'célebre': 1, 'frase': 1, 'josé': 1, 'vasconcelos': 1, 'asumió': 1, 'rectoría': 1, 'en': 11, '1920': 1, 'una': 2, 'época': 1, 'las': 1, 'esperanzas': 1, 'revolución': 1, 'aún': 1, 'estaban': 1, 'vivas': 1, 'había': 1, 'gran': 1, 'fé': 1, 'patria': 1, 'y': 1, 'ánimo': 1, 'redentor': 1, 'se': 1, 'extendía': 1, 'ambiente': 1}\n"
          ],
          "name": "stdout"
        }
      ]
    },
    {
      "cell_type": "code",
      "metadata": {
        "colab": {
          "base_uri": "https://localhost:8080/"
        },
        "id": "hQ7-o2Ja_unl",
        "outputId": "05f0f826-5d30-4bc5-f25e-d16683255e8a"
      },
      "source": [
        "# función hash o de dispersión - Es una función matemática '\n",
        "palabra = 'hola'\n",
        "print ( hash(palabra) )\n",
        "palabra = 'hole'\n",
        "print ( hash(palabra) )"
      ],
      "execution_count": 6,
      "outputs": [
        {
          "output_type": "stream",
          "text": [
            "-4369751773217699998\n",
            "-955234571549121193\n"
          ],
          "name": "stdout"
        }
      ]
    },
    {
      "cell_type": "code",
      "metadata": {
        "colab": {
          "base_uri": "https://localhost:8080/"
        },
        "id": "0MVbAlQJFeEi",
        "outputId": "f13ccb66-df83-40cb-e10a-60d309ba323a"
      },
      "source": [
        "frase= \"\"\"El lema que anima a la Universidad Nacional, Por mi raza hablará el espíritu, revela la vocación humanística con la que fue concebida. El autor de esta célebre frase, José Vasconcelos, asumió la rectoría en 1920, en una época en que las esperanzas de la Revolución aún estaban vivas,\n",
        " había una gran fé en la Patria y el ánimo redentor se extendía en el ambiente.\"\"\"\n",
        "\n",
        "frase = frase.strip().replace(\"\\n\", \" \").replace(\",\",\" \").replace(\".\",\"\").lower().split(\" \")\n",
        "print (frase)\n",
        "frecuencias= {}\n",
        "for index in range (len(frase)):\n",
        "  print ( hash(frase[index]))\n",
        "  if frase[index] in frecuencias:\n",
        "    frecuencias[frase[index]] += 1\n",
        "  else:\n",
        "    frecuencias[frase[index]] = 1\n",
        "\n"
      ],
      "execution_count": 10,
      "outputs": [
        {
          "output_type": "stream",
          "text": [
            "['el', 'lema', 'que', 'anima', 'a', 'la', 'universidad', 'nacional', '', 'por', 'mi', 'raza', 'hablará', 'el', 'espíritu', '', 'revela', 'la', 'vocación', 'humanística', 'con', 'la', 'que', 'fue', 'concebida', 'el', 'autor', 'de', 'esta', 'célebre', 'frase', '', 'josé', 'vasconcelos', '', 'asumió', 'la', 'rectoría', 'en', '1920', '', 'en', 'una', 'época', 'en', 'que', 'las', 'esperanzas', 'de', 'la', 'revolución', 'aún', 'estaban', 'vivas', '', '', 'había', 'una', 'gran', 'fé', 'en', 'la', 'patria', 'y', 'el', 'ánimo', 'redentor', 'se', 'extendía', 'en', 'el', 'ambiente']\n",
            "7041505353740435321\n",
            "-3767959743114624501\n",
            "-2631297885927821841\n",
            "2597713987454300061\n",
            "-8565250829639233187\n",
            "7944024253379372448\n",
            "6709404241629322548\n",
            "-3357290896640339666\n",
            "0\n",
            "-8130271146386445705\n",
            "-9089287849936420239\n",
            "3382937591488734453\n",
            "-7120404485108771799\n",
            "7041505353740435321\n",
            "5517642892673859105\n",
            "0\n",
            "-385382599393186606\n",
            "7944024253379372448\n",
            "-787106162481780367\n",
            "-8033091625622844881\n",
            "-2326633756157942944\n",
            "7944024253379372448\n",
            "-2631297885927821841\n",
            "8014263207873208494\n",
            "2920443998917988928\n",
            "7041505353740435321\n",
            "-8447649679977668815\n",
            "-5975056343243919337\n",
            "6722281586579612383\n",
            "2692584819509547488\n",
            "-6737470227767228630\n",
            "0\n",
            "-735155171813535186\n",
            "7271924825792396523\n",
            "0\n",
            "-9105187204425622723\n",
            "7944024253379372448\n",
            "-5357331749929611590\n",
            "5801646775119033270\n",
            "-1750904085868036604\n",
            "0\n",
            "5801646775119033270\n",
            "2457102595116815341\n",
            "-2705840706115314929\n",
            "5801646775119033270\n",
            "-2631297885927821841\n",
            "-8834466872795986705\n",
            "-1740150083898700467\n",
            "-5975056343243919337\n",
            "7944024253379372448\n",
            "199071409037695235\n",
            "6846926186396043203\n",
            "6030990718202601267\n",
            "-2579902266396985796\n",
            "0\n",
            "0\n",
            "5145463487385584957\n",
            "2457102595116815341\n",
            "1580333041471362738\n",
            "3551510899139931841\n",
            "5801646775119033270\n",
            "7944024253379372448\n",
            "-6263212387123759587\n",
            "827150823930857737\n",
            "7041505353740435321\n",
            "2878189736790435080\n",
            "-2996502600550322139\n",
            "1095881034546478074\n",
            "5516800345963271064\n",
            "5801646775119033270\n",
            "7041505353740435321\n",
            "4657641038975884558\n"
          ],
          "name": "stdout"
        }
      ]
    }
  ]
}