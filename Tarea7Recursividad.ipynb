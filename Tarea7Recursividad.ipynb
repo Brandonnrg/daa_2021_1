{
  "nbformat": 4,
  "nbformat_minor": 0,
  "metadata": {
    "colab": {
      "name": "Untitled3.ipynb",
      "provenance": [],
      "authorship_tag": "ABX9TyM2Wp1i83l7U6fOyD71O03d",
      "include_colab_link": true
    },
    "kernelspec": {
      "name": "python3",
      "display_name": "Python 3"
    }
  },
  "cells": [
    {
      "cell_type": "markdown",
      "metadata": {
        "id": "view-in-github",
        "colab_type": "text"
      },
      "source": [
        "<a href=\"https://colab.research.google.com/github/Brandonnrg/daa_2021_1/blob/master/Tarea7Recursividad.ipynb\" target=\"_parent\"><img src=\"https://colab.research.google.com/assets/colab-badge.svg\" alt=\"Open In Colab\"/></a>"
      ]
    },
    {
      "cell_type": "code",
      "metadata": {
        "colab": {
          "base_uri": "https://localhost:8080/"
        },
        "id": "BhCrzlBEjPcI",
        "outputId": "e9e890c9-322a-4440-b109-86f5e83798df"
      },
      "source": [
        "Arreglo=[9, 45, 78]\n",
        "def suma(Arreglo,i,s):\n",
        "    if i<len(Arreglo):\n",
        "        s = s + Arreglo[i]\n",
        "        suma(Arreglo,i+1,s)\n",
        "    if i == len(Arreglo)-1:\n",
        "        print(s)\n",
        "suma(Arreglo,0,0)"
      ],
      "execution_count": 23,
      "outputs": [
        {
          "output_type": "stream",
          "text": [
            "132\n"
          ],
          "name": "stdout"
        }
      ]
    },
    {
      "cell_type": "code",
      "metadata": {
        "colab": {
          "base_uri": "https://localhost:8080/"
        },
        "id": "SVXBXQj0lFIY",
        "outputId": "33915640-d1d5-4f56-d5a2-354f4ac8488d"
      },
      "source": [
        "def cr(n):\n",
        "  if n > 0:\n",
        "    print(n)\n",
        "    n -= 1\n",
        "    cr(n)\n",
        "  else:\n",
        "    print(\" 0 \")\n",
        "n=30\n",
        "print(\"Numero:\", n)\n",
        "cr(n)"
      ],
      "execution_count": 12,
      "outputs": [
        {
          "output_type": "stream",
          "text": [
            "Numero: 30\n",
            "30\n",
            "29\n",
            "28\n",
            "27\n",
            "26\n",
            "25\n",
            "24\n",
            "23\n",
            "22\n",
            "21\n",
            "20\n",
            "19\n",
            "18\n",
            "17\n",
            "16\n",
            "15\n",
            "14\n",
            "13\n",
            "12\n",
            "11\n",
            "10\n",
            "9\n",
            "8\n",
            "7\n",
            "6\n",
            "5\n",
            "4\n",
            "3\n",
            "2\n",
            "1\n",
            " 0 \n"
          ],
          "name": "stdout"
        }
      ]
    },
    {
      "cell_type": "code",
      "metadata": {
        "colab": {
          "base_uri": "https://localhost:8080/"
        },
        "id": "cbS32i3PlXgG",
        "outputId": "57a3bf12-7fa7-463a-df02-ba0e0127e3ed"
      },
      "source": [
        "class Stack:\n",
        "  def __init__(self):\n",
        "    self.__datos=[]\n",
        "  def is_empty(self):\n",
        "    return len(self.__datos)==0\n",
        "  def get_top(self):\n",
        "    return self.__datos[-1]\n",
        "  def pop(self):\n",
        "    return self.__datos.pop()\n",
        "  def push(self,valor):\n",
        "    self.__datos.append(valor)\n",
        "  def get_length(self):\n",
        "    return len(self.__datos)\n",
        "  def to_string(self):\n",
        "    print(\"----------------\")\n",
        "    for i in self.__datos[-1::-1]:\n",
        "      print(i)\n",
        "    print(\"----------------\")\n",
        "    print()\n",
        "\n",
        "def medio(pila,m,z,i):\n",
        "  if m>i:\n",
        "    z=pila.pop()\n",
        "    i+=1\n",
        "    medio(pila,m,z,i)\n",
        "\n",
        "  if m==i:\n",
        "    pila.pop()\n",
        "  pila.push(z)\n",
        "pila=Stack()\n",
        "pila.push(3)\n",
        "pila.push(9)\n",
        "pila.push(14)\n",
        "pila.push(22)\n",
        "pila.push(31)\n",
        "pila.push(40)\n",
        "pila.push(60)\n",
        "print(\"Pila\")\n",
        "pila.to_string()\n",
        "m=pila.get_length()//2\n",
        "medio(pila,m,0,0)\n",
        "print(\"Pila sin punto medio\")\n",
        "pila.to_string()"
      ],
      "execution_count": 11,
      "outputs": [
        {
          "output_type": "stream",
          "text": [
            "Pila\n",
            "----------------\n",
            "60\n",
            "40\n",
            "31\n",
            "22\n",
            "14\n",
            "9\n",
            "3\n",
            "----------------\n",
            "\n",
            "Pila sin punto medio\n",
            "----------------\n",
            "60\n",
            "40\n",
            "31\n",
            "14\n",
            "9\n",
            "3\n",
            "----------------\n",
            "\n"
          ],
          "name": "stdout"
        }
      ]
    }
  ]
}