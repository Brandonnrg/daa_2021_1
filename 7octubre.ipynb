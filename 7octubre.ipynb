{
  "nbformat": 4,
  "nbformat_minor": 0,
  "metadata": {
    "colab": {
      "name": "7octubre.ipynb",
      "provenance": [],
      "authorship_tag": "ABX9TyOe91P3cjJT4JLIp2RWLLw2",
      "include_colab_link": true
    },
    "kernelspec": {
      "name": "python3",
      "display_name": "Python 3"
    }
  },
  "cells": [
    {
      "cell_type": "markdown",
      "metadata": {
        "id": "view-in-github",
        "colab_type": "text"
      },
      "source": [
        "<a href=\"https://colab.research.google.com/github/Brandonnrg/daa_2021_1/blob/master/7octubre.ipynb\" target=\"_parent\"><img src=\"https://colab.research.google.com/assets/colab-badge.svg\" alt=\"Open In Colab\"/></a>"
      ]
    },
    {
      "cell_type": "markdown",
      "metadata": {
        "id": "f5opqvH1Ser3"
      },
      "source": [
        "# Búsqueda lineal\n",
        "\n",
        "Dada un conjunto de datos ordenados, la busqueda consiste en recorrer el conjunto de datos desde el inicio al final, moviendose de uno en uno hsta encontrar el elementoo llegar al final del conjunto.\n",
        "\n",
        "datos = [ 4,18,47,2,34,14,78,12,48,21,31,19,1,3,5]\n",
        "\n",
        "# Busqueda binaria \n",
        "\n",
        "funciona sobre un conjunto de datos lineal ordenado.\n",
        "Consiste en dividir el conjunto en mitades y buscar en esa mitad. Si el elemento buscado no esta en la mitad, preguntas si el elemento esta a la derecha a al izq.\n",
        "Haces la lista igual a la mitad correspondiente y repites el proceso.\n",
        "\n",
        "DER = longitud (L) -1\n",
        "\n",
        "IZQ = 0\n",
        "\n",
        "MID apuntara a la mitasd del segmento de busaqueda\n",
        "\n",
        "buscado es el valor a buscar (47) \n",
        "\n",
        "1. Hacer DER = Longitud (L) -1\n",
        "2. Hacer IZQ = 0\n",
        "3. Si IZQ > DER significa que hay un error en los datos \n",
        "4. Calcular MID = int ((IZQ + DER)/2)\n",
        "5. mientras L[MID] != buscado hacer \n",
        "6.       - preguntar L[MID] > buscado\n",
        "              - hacer DER = mid\n",
        "        -  de lo contrario\n",
        "              - hacer IZQ = mid\n",
        "        - preguntar {DER - IZQ} %2\n",
        "              - MID = (IZQ + ((DER - IZQ)/2)) +1\n",
        "        - de lo contrario\n",
        "               - MID = IZQ + ((DER - IZQ)\n"
      ]
    },
    {
      "cell_type": "code",
      "metadata": {
        "id": "utu2Ad3zWIAZ",
        "cellView": "both"
      },
      "source": [
        "#@title Texto de título predeterminado\n",
        "\"\"\"\n",
        "Busqueda lineal \n",
        "regresa la posicion del elemento 'buscado' si se encuentra dentro de la lista.\n",
        "regresa -1 si elemento buscado no existe dentro de la lista.\n",
        "\"\"\"\n",
        "def busqueda_binaria(L, buscado):\n",
        "    IZQ = 0 \n",
        "    DER = len(L) - 1\n",
        "    MID = int((IZQ + DER /2))\n",
        "    if len (L) % 2 == 0:\n",
        "        MID = (DER // 2) + 1\n",
        "    else:\n",
        "        MID = DER // 2\n",
        "\n",
        "    while (L[MID] != buscado):\n",
        "        if L[MID] > buscado:\n",
        "            DER = MID\n",
        "        else: \n",
        "          IZQ = MID\n",
        "        if (DER - IZQ) % 2 ==0:\n",
        "            MID = (IZQ +((DER - IZQ)//2))+1\n",
        "        else:\n",
        "          MID = IZQ + ((DER - IZQ)//2)\n",
        "      return MID\n",
        "def busq_lineal (L, buscado):\n",
        "    indice = -1\n",
        "    contador = 0\n",
        "    for idx in range (len(L)):\n",
        "        contador += 1\n",
        "        if L[idx] == buscado:\n",
        "           indice = idx\n",
        "           break\n",
        "    print(f\"numero de comparaciones realizadas = {contador}\")\n",
        "    return indice \n",
        "\n",
        "\"\"\"\n",
        "Busqueda binaria\n",
        "\"\"\"\n",
        "\n",
        "\n",
        "\n",
        "def main():\n",
        "    datos = [ 4,18,47,2,34,14,78,12,48,21,31,19,1,3,5]\n",
        "    dato = int(input(\"Que valor quieres buscar: \"))\n",
        "    resultado = busq_lineal(datos, dato)\n",
        "    print(\"Resultado:\", resultado)\n",
        "    \n",
        "    print(\"Busqueda lineal en una lista ordenada\")\n",
        "    datos.sort()\n",
        "    print(datos)\n",
        "    resultado = busq_lineal(datos, dato)\n",
        "    print(\"Resultado\", resultado)\n",
        "\n",
        "    print(\"Busqueda binaria\")\n",
        "    posicion = busqueda_binaria(datos, dato)\n",
        "    print(f)\n",
        "\n",
        "\n",
        "main()"
      ],
      "execution_count": null,
      "outputs": []
    }
  ]
}