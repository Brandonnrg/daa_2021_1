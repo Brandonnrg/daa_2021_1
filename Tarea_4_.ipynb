{
  "nbformat": 4,
  "nbformat_minor": 0,
  "metadata": {
    "colab": {
      "name": "Tarea 4..ipynb",
      "provenance": [],
      "authorship_tag": "ABX9TyM//YdugahZgptj/Dm65gd4",
      "include_colab_link": true
    },
    "kernelspec": {
      "name": "python3",
      "display_name": "Python 3"
    }
  },
  "cells": [
    {
      "cell_type": "markdown",
      "metadata": {
        "id": "view-in-github",
        "colab_type": "text"
      },
      "source": [
        "<a href=\"https://colab.research.google.com/github/Brandonnrg/daa_2021_1/blob/master/Tarea_4_.ipynb\" target=\"_parent\"><img src=\"https://colab.research.google.com/assets/colab-badge.svg\" alt=\"Open In Colab\"/></a>"
      ]
    },
    {
      "cell_type": "code",
      "metadata": {
        "id": "R4btKkmf-apY",
        "outputId": "31b657d9-9fe7-4dd8-bcc0-7fe9d583e5d0",
        "colab": {
          "base_uri": "https://localhost:8080/",
          "height": 888
        }
      },
      "source": [
        "def ejemplo4(n):\n",
        "  print(\"---------------------\")\n",
        "  count=0\n",
        "  i=n\n",
        "  print(\"primer nivel\")\n",
        "  while i>=1:\n",
        "    count+=1\n",
        "    i=i//2\n",
        "    print(\"segundo nivel\")\n",
        "  basura=3+2\n",
        "  return count\n",
        "def main():\n",
        "  print(ejemplo4(512))\n",
        "  print(ejemplo4(128))\n",
        "  print(ejemplo4(64))\n",
        "  print(ejemplo4(2048))\n",
        "main()\n"
      ],
      "execution_count": 5,
      "outputs": [
        {
          "output_type": "stream",
          "text": [
            "---------------------\n",
            "primer nivel\n",
            "segundo nivel\n",
            "segundo nivel\n",
            "segundo nivel\n",
            "segundo nivel\n",
            "segundo nivel\n",
            "segundo nivel\n",
            "segundo nivel\n",
            "segundo nivel\n",
            "segundo nivel\n",
            "segundo nivel\n",
            "10\n",
            "---------------------\n",
            "primer nivel\n",
            "segundo nivel\n",
            "segundo nivel\n",
            "segundo nivel\n",
            "segundo nivel\n",
            "segundo nivel\n",
            "segundo nivel\n",
            "segundo nivel\n",
            "segundo nivel\n",
            "8\n",
            "---------------------\n",
            "primer nivel\n",
            "segundo nivel\n",
            "segundo nivel\n",
            "segundo nivel\n",
            "segundo nivel\n",
            "segundo nivel\n",
            "segundo nivel\n",
            "segundo nivel\n",
            "7\n",
            "---------------------\n",
            "primer nivel\n",
            "segundo nivel\n",
            "segundo nivel\n",
            "segundo nivel\n",
            "segundo nivel\n",
            "segundo nivel\n",
            "segundo nivel\n",
            "segundo nivel\n",
            "segundo nivel\n",
            "segundo nivel\n",
            "segundo nivel\n",
            "segundo nivel\n",
            "segundo nivel\n",
            "12\n"
          ],
          "name": "stdout"
        }
      ]
    }
  ]
}