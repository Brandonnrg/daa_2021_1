{
  "nbformat": 4,
  "nbformat_minor": 0,
  "metadata": {
    "colab": {
      "name": "13-enero.2021.ipynb",
      "provenance": [],
      "authorship_tag": "ABX9TyN+kEZUyFRlHRq+OWB6nP8p",
      "include_colab_link": true
    },
    "kernelspec": {
      "name": "python3",
      "display_name": "Python 3"
    }
  },
  "cells": [
    {
      "cell_type": "markdown",
      "metadata": {
        "id": "view-in-github",
        "colab_type": "text"
      },
      "source": [
        "<a href=\"https://colab.research.google.com/github/Brandonnrg/daa_2021_1/blob/master/20_enero_2021.ipynb\" target=\"_parent\"><img src=\"https://colab.research.google.com/assets/colab-badge.svg\" alt=\"Open In Colab\"/></a>"
      ]
    },
    {
      "cell_type": "code",
      "metadata": {
        "id": "PJ5hI7-MMNCQ"
      },
      "source": [
        "class NodoArbol: \r\n",
        "    def __init__(self, dato, hijo_izq=None, hijo_der=None):\r\n",
        "        self.dato = dato\r\n",
        "        self.left = hijo_izq\r\n",
        "        self.right = hijo_der"
      ],
      "execution_count": null,
      "outputs": []
    },
    {
      "cell_type": "markdown",
      "metadata": {
        "id": "C77LHdKsMxZK"
      },
      "source": [
        "Árbol binario de busqueda \r\n",
        "Los nodos a la izq son menores a la raiz y los nodos a la derecha son mayores a la raiz.\r\n",
        "Puedes ser recorridos en :  pre-oden, in-orden y post-orden"
      ]
    },
    {
      "cell_type": "code",
      "metadata": {
        "id": "Bqxf6ZIFS5lb"
      },
      "source": [
        "class BinarySearchTree:\r\n",
        "    def __init__(self):\r\n",
        "        self.__root = None\r\n",
        "    \r\n",
        "    def insert(self, value):\r\n",
        "        if self.__root == None:\r\n",
        "            self.__root = NodoArbol(value,None,None)\r\n",
        "        else:\r\n",
        "          #preguntar si value es menor que root, de ser el caso\r\n",
        "          #insertar a la izq. PERO... puede se el caso que el \r\n",
        "          #sub árbol izq ya tenga muchos elementos...\r\n",
        "          self.__insert_nodo__(self.__root, value)\r\n",
        "      \r\n",
        "    def __insert_nodo__(self, nodo,value):\r\n",
        "        if nodo.data == value:\r\n",
        "            pass\r\n",
        "        elif value < nodo.data: # true va a la IZQ\r\n",
        "            if nodo.left == None: # si hay espacio a la izq, ahí va\r\n",
        "                nodo.left = NodoArbol(value, None,None) # insertamos el nodo\r\n",
        "            else:\r\n",
        "                self.__insert_nodo__(nodo.left, value) # buscar en sub árbol izq\r\n",
        "        else:\r\n",
        "            if nodo.right == None:\r\n",
        "                nodo.right = NodoArbol(value, None, None)\r\n",
        "            else:\r\n",
        "                self.__insert_nodo__(nodo.right, value) #buscar en e sub árbol de\r\n",
        "    def transversal(self,format=\"inorden\"):\r\n",
        "      if format==\"inorden\":\r\n",
        "        self._recorrido_in(self._root)\r\n",
        "      elif format==\"preorden\":\r\n",
        "        self._recorrido_pre(self._root)\r\n",
        "      elif format==\"posorden\":\r\n",
        "        self._recorrido_pos(self._root)\r\n",
        "      else:\r\n",
        "        print(\"Formato de corrido no valido\")\r\n",
        "    def __recorrido_pre(self,nodo):\r\n",
        "      if nodo!=None:\r\n",
        "        print(nodo.data)\r\n",
        "        self.__recorrido_pre(nodo.left)\r\n",
        "        self.__recorrido_pre(nodo.rigth)\r\n",
        "    def __recorrido_in(self,nodo):\r\n",
        "      if nodo!=None:\r\n",
        "        self.__recorrido_in(nodo.left)\r\n",
        "        print(nodo.data)\r\n",
        "        self.__recorrido_in(nodo.rigth)\r\n",
        "    def __recorrido_pos(self,nodo):\r\n",
        "      if nodo!=None:\r\n",
        "        self.__recorrido_pos(nodo.left)\r\n",
        "        self.__recorrido_pos(nodo.rigth)\r\n",
        "        print(nodo.data)"
      ],
      "execution_count": 32,
      "outputs": []
    },
    {
      "cell_type": "code",
      "metadata": {
        "id": "MGazDtRvWnY8",
        "outputId": "bd915e86-7755-4ba1-d4a3-7736ca95902c",
        "colab": {
          "base_uri": "https://localhost:8080/",
          "height": 388
        }
      },
      "source": [
        "bst = BinarySearchTree()\r\n",
        "bst.insert(50)\r\n",
        "bst.insert(30)\r\n",
        "bst.insert(20)\r\n",
        "rest=bst.buscar(20)\r\n",
        "print(\" Dato : \", str(res))\r\n",
        "print(bst.buscar(40))\r\n",
        "bst.transversal(\"preorden\")\r\n",
        "print(\"----------------------------\")\r\n",
        "bst.transversal(\"inorden\")\r\n",
        "print(\"----------------------------\")\r\n",
        "bst.transversal(\"posorden\")"
      ],
      "execution_count": 34,
      "outputs": [
        {
          "output_type": "error",
          "ename": "AttributeError",
          "evalue": "ignored",
          "traceback": [
            "\u001b[0;31m---------------------------------------------------------------------------\u001b[0m",
            "\u001b[0;31mAttributeError\u001b[0m                            Traceback (most recent call last)",
            "\u001b[0;32m<ipython-input-34-8b3362dd9e30>\u001b[0m in \u001b[0;36m<module>\u001b[0;34m()\u001b[0m\n\u001b[1;32m      1\u001b[0m \u001b[0mbst\u001b[0m \u001b[0;34m=\u001b[0m \u001b[0mBinarySearchTree\u001b[0m\u001b[0;34m(\u001b[0m\u001b[0;34m)\u001b[0m\u001b[0;34m\u001b[0m\u001b[0;34m\u001b[0m\u001b[0m\n\u001b[1;32m      2\u001b[0m \u001b[0mbst\u001b[0m\u001b[0;34m.\u001b[0m\u001b[0minsert\u001b[0m\u001b[0;34m(\u001b[0m\u001b[0;36m50\u001b[0m\u001b[0;34m)\u001b[0m\u001b[0;34m\u001b[0m\u001b[0;34m\u001b[0m\u001b[0m\n\u001b[0;32m----> 3\u001b[0;31m \u001b[0mbst\u001b[0m\u001b[0;34m.\u001b[0m\u001b[0minsert\u001b[0m\u001b[0;34m(\u001b[0m\u001b[0;36m30\u001b[0m\u001b[0;34m)\u001b[0m\u001b[0;34m\u001b[0m\u001b[0;34m\u001b[0m\u001b[0m\n\u001b[0m\u001b[1;32m      4\u001b[0m \u001b[0mbst\u001b[0m\u001b[0;34m.\u001b[0m\u001b[0minsert\u001b[0m\u001b[0;34m(\u001b[0m\u001b[0;36m20\u001b[0m\u001b[0;34m)\u001b[0m\u001b[0;34m\u001b[0m\u001b[0;34m\u001b[0m\u001b[0m\n\u001b[1;32m      5\u001b[0m \u001b[0mrest\u001b[0m\u001b[0;34m=\u001b[0m\u001b[0mbst\u001b[0m\u001b[0;34m.\u001b[0m\u001b[0mbuscar\u001b[0m\u001b[0;34m(\u001b[0m\u001b[0;36m20\u001b[0m\u001b[0;34m)\u001b[0m\u001b[0;34m\u001b[0m\u001b[0;34m\u001b[0m\u001b[0m\n",
            "\u001b[0;32m<ipython-input-32-b3a8faf47fca>\u001b[0m in \u001b[0;36minsert\u001b[0;34m(self, value)\u001b[0m\n\u001b[1;32m     10\u001b[0m           \u001b[0;31m#insertar a la izq. PERO... puede se el caso que el\u001b[0m\u001b[0;34m\u001b[0m\u001b[0;34m\u001b[0m\u001b[0;34m\u001b[0m\u001b[0m\n\u001b[1;32m     11\u001b[0m           \u001b[0;31m#sub árbol izq ya tenga muchos elementos...\u001b[0m\u001b[0;34m\u001b[0m\u001b[0;34m\u001b[0m\u001b[0;34m\u001b[0m\u001b[0m\n\u001b[0;32m---> 12\u001b[0;31m           \u001b[0mself\u001b[0m\u001b[0;34m.\u001b[0m\u001b[0m__insert_nodo__\u001b[0m\u001b[0;34m(\u001b[0m\u001b[0mself\u001b[0m\u001b[0;34m.\u001b[0m\u001b[0m__root\u001b[0m\u001b[0;34m,\u001b[0m \u001b[0mvalue\u001b[0m\u001b[0;34m)\u001b[0m\u001b[0;34m\u001b[0m\u001b[0;34m\u001b[0m\u001b[0m\n\u001b[0m\u001b[1;32m     13\u001b[0m \u001b[0;34m\u001b[0m\u001b[0m\n\u001b[1;32m     14\u001b[0m     \u001b[0;32mdef\u001b[0m \u001b[0m__insert_nodo__\u001b[0m\u001b[0;34m(\u001b[0m\u001b[0mself\u001b[0m\u001b[0;34m,\u001b[0m \u001b[0mnodo\u001b[0m\u001b[0;34m,\u001b[0m\u001b[0mvalue\u001b[0m\u001b[0;34m)\u001b[0m\u001b[0;34m:\u001b[0m\u001b[0;34m\u001b[0m\u001b[0;34m\u001b[0m\u001b[0m\n",
            "\u001b[0;32m<ipython-input-32-b3a8faf47fca>\u001b[0m in \u001b[0;36m__insert_nodo__\u001b[0;34m(self, nodo, value)\u001b[0m\n\u001b[1;32m     13\u001b[0m \u001b[0;34m\u001b[0m\u001b[0m\n\u001b[1;32m     14\u001b[0m     \u001b[0;32mdef\u001b[0m \u001b[0m__insert_nodo__\u001b[0m\u001b[0;34m(\u001b[0m\u001b[0mself\u001b[0m\u001b[0;34m,\u001b[0m \u001b[0mnodo\u001b[0m\u001b[0;34m,\u001b[0m\u001b[0mvalue\u001b[0m\u001b[0;34m)\u001b[0m\u001b[0;34m:\u001b[0m\u001b[0;34m\u001b[0m\u001b[0;34m\u001b[0m\u001b[0m\n\u001b[0;32m---> 15\u001b[0;31m         \u001b[0;32mif\u001b[0m \u001b[0mnodo\u001b[0m\u001b[0;34m.\u001b[0m\u001b[0mdata\u001b[0m \u001b[0;34m==\u001b[0m \u001b[0mvalue\u001b[0m\u001b[0;34m:\u001b[0m\u001b[0;34m\u001b[0m\u001b[0;34m\u001b[0m\u001b[0m\n\u001b[0m\u001b[1;32m     16\u001b[0m             \u001b[0;32mpass\u001b[0m\u001b[0;34m\u001b[0m\u001b[0;34m\u001b[0m\u001b[0m\n\u001b[1;32m     17\u001b[0m         \u001b[0;32melif\u001b[0m \u001b[0mvalue\u001b[0m \u001b[0;34m<\u001b[0m \u001b[0mnodo\u001b[0m\u001b[0;34m.\u001b[0m\u001b[0mdata\u001b[0m\u001b[0;34m:\u001b[0m \u001b[0;31m# true va a la IZQ\u001b[0m\u001b[0;34m\u001b[0m\u001b[0;34m\u001b[0m\u001b[0m\n",
            "\u001b[0;31mAttributeError\u001b[0m: 'NodoArbol' object has no attribute 'data'"
          ]
        }
      ]
    }
  ]
}