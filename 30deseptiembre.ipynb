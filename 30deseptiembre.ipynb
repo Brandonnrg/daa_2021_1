{
  "nbformat": 4,
  "nbformat_minor": 0,
  "metadata": {
    "colab": {
      "name": "Untitled0.ipynb",
      "provenance": [],
      "authorship_tag": "ABX9TyOIVEusLyc+QRsQcD6mUJYj",
      "include_colab_link": true
    },
    "kernelspec": {
      "name": "python3",
      "display_name": "Python 3"
    }
  },
  "cells": [
    {
      "cell_type": "markdown",
      "metadata": {
        "id": "view-in-github",
        "colab_type": "text"
      },
      "source": [
        "<a href=\"https://colab.research.google.com/github/Brandonnrg/daa_2021_1/blob/master/30deseptiembre.ipynb\" target=\"_parent\"><img src=\"https://colab.research.google.com/assets/colab-badge.svg\" alt=\"Open In Colab\"/></a>"
      ]
    },
    {
      "cell_type": "markdown",
      "metadata": {
        "id": "eqdPYN_0QHyj"
      },
      "source": [
        "# Palindromos \n",
        "Es una palabra que se lee de igual forma de un sentido y de sentido inverso, ejemplo:\n",
        "1. Sugus\n",
        "2. oso\n",
        "3. reconocer\n",
        "4. 1010\n",
        "5. 10:10\n",
        "etc.\n",
        "\n",
        "### Planteamiento del problema\n",
        "Se desea encontrar todos los palindromos que existen en la franja de un dia completo, toamndo como horario inicial las 00:00 y como horario final las 23:59.\n",
        "\n",
        "El algoritmo debe mostrar en pantalla todos los palindromos existentes en ese rango, al final debe mostrar el conteo de total de palindromos existentes.\n"
      ]
    },
    {
      "cell_type": "code",
      "metadata": {
        "id": "nsVUZ2QmP9Xg",
        "outputId": "c37c8b02-edbd-4ee3-c346-00b303016a70",
        "colab": {
          "base_uri": "https://localhost:8080/",
          "height": 195
        }
      },
      "source": [
        "# Solucion\n",
        "\n",
        "lista=[]\n",
        "for i in range(0, 25, 1):\n",
        "  for j in range(0,60, 1):\n",
        "    if i < 10:\n",
        "      if j < 10:\n",
        "        lista.append(\"0\" + str(i)+ \"0\" + str(j))\n",
        "      else:\n",
        "        lista.append(\"0\" +str(i) + \":\" +str(j))\n",
        "    else:\n",
        "     if i > 10:\n",
        "       if j < 10:\n",
        "         lista.append(str(i) + \":\" + str(j))\n",
        "       else:\n",
        "           lista.append(str(i) + \":\" + str(j))\n",
        "\n",
        "           print(lista)\n",
        "\n",
        "           \n"
      ],
      "execution_count": 22,
      "outputs": [
        {
          "output_type": "stream",
          "text": [
            "IOPub data rate exceeded.\n",
            "The notebook server will temporarily stop sending output\n",
            "to the client in order to avoid crashing it.\n",
            "To change this limit, set the config variable\n",
            "`--NotebookApp.iopub_data_rate_limit`.\n",
            "\n",
            "Current values:\n",
            "NotebookApp.iopub_data_rate_limit=1000000.0 (bytes/sec)\n",
            "NotebookApp.rate_limit_window=3.0 (secs)\n",
            "\n"
          ],
          "name": "stderr"
        }
      ]
    }
  ]
}