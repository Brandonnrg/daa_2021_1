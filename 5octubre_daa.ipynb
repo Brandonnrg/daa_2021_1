{
  "nbformat": 4,
  "nbformat_minor": 0,
  "metadata": {
    "colab": {
      "name": "5octubre_daa.ipynb",
      "provenance": [],
      "authorship_tag": "ABX9TyNRvvmfmHwfeI6Y6XBfPKtY",
      "include_colab_link": true
    },
    "kernelspec": {
      "name": "python3",
      "display_name": "Python 3"
    }
  },
  "cells": [
    {
      "cell_type": "markdown",
      "metadata": {
        "id": "view-in-github",
        "colab_type": "text"
      },
      "source": [
        "<a href=\"https://colab.research.google.com/github/Brandonnrg/daa_2021_1/blob/master/5octubre_daa.ipynb\" target=\"_parent\"><img src=\"https://colab.research.google.com/assets/colab-badge.svg\" alt=\"Open In Colab\"/></a>"
      ]
    },
    {
      "cell_type": "markdown",
      "metadata": {
        "id": "NM3pwg4LADAU"
      },
      "source": [
        "# Estructura de datos Pila (Stack)\n",
        "- Last In First Out (LIFO)\n",
        "- De tipo lineal\n",
        "- Se pueden obtener e ingresar datos desde el tope\n",
        "- push para agregar\n",
        "- pop para sacar \n",
        "\n",
        "## Operaciones de las pilas \n",
        "\n",
        "1. is empty (regresa true o false)\n",
        "1. get_top (regresa el elemento en el tope SIN SACARLO)\n",
        "1. pop (Saca el elemento tope y lo regresa)\n",
        "1. push (mete un elemento en el tope)\n",
        "1. get_length (regresa el númerode elementos de la pila)\n",
        "\n"
      ]
    },
    {
      "cell_type": "code",
      "metadata": {
        "id": "dUFKzEJLCjVl"
      },
      "source": [
        "class Stack:\n",
        "  def __init__ (self):\n",
        "    self.__datos = []\n",
        "\n",
        "  def is_empty(self):\n",
        "    return len(self.__datos) == 0 \n",
        "  \n",
        "  def get_top(self):\n",
        "    return self.__datos [-1]\n",
        "\n",
        "  def pop(self):\n",
        "    return self.__datos.pop()\n",
        "  \n",
        "  def push(self, valor):\n",
        "    self.__datos.append(valor)\n",
        "\n",
        "  def get_length(self):\n",
        "    return len(self.__datos)\n",
        "\n",
        "  def to_string(self):\n",
        "    print(\"------------\")\n",
        "    for ele in self.__datos [-1::-1]:\n",
        "      print(f\" {ele}\")\n",
        "    print(\"-----------\\n\")"
      ],
      "execution_count": 11,
      "outputs": []
    },
    {
      "cell_type": "code",
      "metadata": {
        "id": "K8zU7yUKFQLF"
      },
      "source": [
        "pila1 = Stack()\n",
        "pila1.push(10)\n",
        "pila1.push(20)\n",
        "pila1.push(1)\n",
        "pila1.push(393)\n",
        "pila1.push(103)\n",
        "pila1.to_string()\n",
        "\n",
        "sacado = pila1.pop()\n",
        "print(sacado)\n",
        "pila1.to_string()\n",
        "\n",
        "pila1.push(444)\n",
        "pila1.push(233)\n",
        "pila1.to_string()\n",
        "\n",
        "print(f\"El elemento en el tope es : {pila1.get_top()}\")\n",
        "pila1.to_string()\n",
        "print(f\"La pila tiene {pila1 .get_length()} elementos\")\n",
        "print(f\"¿La pila esta vacía?: { pila1.is_empty() } \")"
      ],
      "execution_count": null,
      "outputs": []
    },
    {
      "cell_type": "markdown",
      "metadata": {
        "id": "gTAb1Kh_Kpp_"
      },
      "source": [
        "# ejemplo de aplicacion de pilas\n",
        "\n",
        "x = 4 + 5 + 6 + 3\n",
        "\n",
        "x = 4 + (5 + 6) + 3 \n",
        "\n",
        "x = 4 + 5 + 6) + 3\n",
        "\n",
        "if(a==b){ System.out.println(b)}\n",
        "if(a==b){ System.out.println(b}\n",
        "\n",
        "# reglas\n",
        "### '(' ----> push('@')\n",
        "### ')' ----> pop()\n",
        "\n",
        "Si al final del recorrido la pila vacia, entonces la cadena es correcta.\n",
        "\n",
        "Si en un pop desencadena en querer sacar un elemento de la pila vacia, significa que la cadena no esta balanceada.\n",
        "\n",
        "# Tarea\n",
        "\n",
        "Hacer un programa que valide el balanceo de '()', '[]' y '{}' en programas del lenguaje C y Java\n",
        "\n",
        "Tomando como base el codigo de la clase"
      ]
    }
  ]
}