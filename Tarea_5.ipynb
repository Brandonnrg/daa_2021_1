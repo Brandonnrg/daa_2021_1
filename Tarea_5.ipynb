{
  "nbformat": 4,
  "nbformat_minor": 0,
  "metadata": {
    "colab": {
      "name": "Tarea 5.ipynb",
      "provenance": [],
      "authorship_tag": "ABX9TyOHaMih9JyMOF8dq5TvVrJK",
      "include_colab_link": true
    },
    "kernelspec": {
      "name": "python3",
      "display_name": "Python 3"
    }
  },
  "cells": [
    {
      "cell_type": "markdown",
      "metadata": {
        "id": "view-in-github",
        "colab_type": "text"
      },
      "source": [
        "<a href=\"https://colab.research.google.com/github/Brandonnrg/daa_2021_1/blob/master/Tarea_5.ipynb\" target=\"_parent\"><img src=\"https://colab.research.google.com/assets/colab-badge.svg\" alt=\"Open In Colab\"/></a>"
      ]
    },
    {
      "cell_type": "code",
      "metadata": {
        "id": "pS1maIPM_u-v",
        "outputId": "59c7a890-fc0f-42bf-92ab-972705114a07",
        "colab": {
          "base_uri": "https://localhost:8080/",
          "height": 372
        }
      },
      "source": [
        "from time import time\n",
        "def ejemplo1( n ):\n",
        "  start_time = time()\n",
        "  c = n + 1\n",
        "  d = c * n\n",
        "  e = n * n\n",
        "  total = c + e - d\n",
        "  print(f\"total={ total }\")\n",
        "  elapsed_time = time() - start_time\n",
        "  print(\"Tiempo transcurrido: %0.10f segundos.\" % elapsed_time)\n",
        "for entrada in range(100,1100,100):\n",
        "  ejemplo1(entrada)"
      ],
      "execution_count": 1,
      "outputs": [
        {
          "output_type": "stream",
          "text": [
            "total=1\n",
            "Tiempo transcurrido: 0.0001370907 segundos.\n",
            "total=1\n",
            "Tiempo transcurrido: 0.0000665188 segundos.\n",
            "total=1\n",
            "Tiempo transcurrido: 0.0003085136 segundos.\n",
            "total=1\n",
            "Tiempo transcurrido: 0.0000150204 segundos.\n",
            "total=1\n",
            "Tiempo transcurrido: 0.0000183582 segundos.\n",
            "total=1\n",
            "Tiempo transcurrido: 0.0000224113 segundos.\n",
            "total=1\n",
            "Tiempo transcurrido: 0.0000176430 segundos.\n",
            "total=1\n",
            "Tiempo transcurrido: 0.0000174046 segundos.\n",
            "total=1\n",
            "Tiempo transcurrido: 0.0000174046 segundos.\n",
            "total=1\n",
            "Tiempo transcurrido: 0.0000174046 segundos.\n"
          ],
          "name": "stdout"
        }
      ]
    },
    {
      "cell_type": "code",
      "metadata": {
        "id": "AAJZ3R-Z_6ej",
        "outputId": "eb59987d-ddc0-4d55-cba6-e55d5a272629",
        "colab": {
          "base_uri": "https://localhost:8080/",
          "height": 195
        }
      },
      "source": [
        "from time import time\n",
        "def ejemplo2( n ):\n",
        "  start_time = time()\n",
        "  contador = 0\n",
        "  for i in range( n ) :\n",
        "    for j in range( n ) :\n",
        "      contador += 1\n",
        "  elapsed_time = time() - start_time\n",
        "  print(\"Tiempo transcurrido: %0.10f segundos.\" % elapsed_time)\n",
        "  return contador\n",
        "for entrada in range(100,1100,100):\n",
        "  ejemplo2(entrada)"
      ],
      "execution_count": 2,
      "outputs": [
        {
          "output_type": "stream",
          "text": [
            "Tiempo transcurrido: 0.0006887913 segundos.\n",
            "Tiempo transcurrido: 0.0039942265 segundos.\n",
            "Tiempo transcurrido: 0.0072104931 segundos.\n",
            "Tiempo transcurrido: 0.0147488117 segundos.\n",
            "Tiempo transcurrido: 0.0134806633 segundos.\n",
            "Tiempo transcurrido: 0.0206675529 segundos.\n",
            "Tiempo transcurrido: 0.0268726349 segundos.\n",
            "Tiempo transcurrido: 0.0359857082 segundos.\n",
            "Tiempo transcurrido: 0.0458195210 segundos.\n",
            "Tiempo transcurrido: 0.0609211922 segundos.\n"
          ],
          "name": "stdout"
        }
      ]
    },
    {
      "cell_type": "code",
      "metadata": {
        "id": "m6ErAnoUAEgk",
        "outputId": "1dd256e1-bdc6-472f-9dff-f2d490e0f02a",
        "colab": {
          "base_uri": "https://localhost:8080/",
          "height": 195
        }
      },
      "source": [
        "\n",
        "from time import time\n",
        "def ejemplo3( n ): \n",
        "  start_time = time()\n",
        "  x = n * 2 \n",
        "  y = 0   \n",
        "  for m in range( 100 ): \n",
        "    y = x - n \n",
        "  elapsed_time = time() - start_time\n",
        "  print(\"Tiempo transcurrido: %0.10f segundos.\" % elapsed_time)  \n",
        "  return y\n",
        "for entrada in range(100,1100,100):\n",
        "  ejemplo3(entrada)"
      ],
      "execution_count": 3,
      "outputs": [
        {
          "output_type": "stream",
          "text": [
            "Tiempo transcurrido: 0.0000045300 segundos.\n",
            "Tiempo transcurrido: 0.0000069141 segundos.\n",
            "Tiempo transcurrido: 0.0000078678 segundos.\n",
            "Tiempo transcurrido: 0.0000076294 segundos.\n",
            "Tiempo transcurrido: 0.0000073910 segundos.\n",
            "Tiempo transcurrido: 0.0000092983 segundos.\n",
            "Tiempo transcurrido: 0.0000071526 segundos.\n",
            "Tiempo transcurrido: 0.0000097752 segundos.\n",
            "Tiempo transcurrido: 0.0000095367 segundos.\n",
            "Tiempo transcurrido: 0.0000069141 segundos.\n"
          ],
          "name": "stdout"
        }
      ]
    },
    {
      "cell_type": "code",
      "metadata": {
        "id": "PGFmSTVzAHMF",
        "outputId": "5ab685b1-b96a-4385-82eb-456488e1f015",
        "colab": {
          "base_uri": "https://localhost:8080/",
          "height": 195
        }
      },
      "source": [
        "from time import time\n",
        "def ejemplo4( n ):\n",
        "  start_time = time()\n",
        "  x = 3 * 3.1416 + n\n",
        "  y = x + 3 * 3 - n\n",
        "  z = x + y\n",
        "  elapsed_time = time() - start_time\n",
        "  print(\"Tiempo transcurrido: %0.10f segundos.\" % elapsed_time)\n",
        "  return z\n",
        "for entrada in range(100,1100,100):\n",
        "  ejemplo4(entrada)"
      ],
      "execution_count": 4,
      "outputs": [
        {
          "output_type": "stream",
          "text": [
            "Tiempo transcurrido: 0.0000014305 segundos.\n",
            "Tiempo transcurrido: 0.0000009537 segundos.\n",
            "Tiempo transcurrido: 0.0000002384 segundos.\n",
            "Tiempo transcurrido: 0.0000009537 segundos.\n",
            "Tiempo transcurrido: 0.0000004768 segundos.\n",
            "Tiempo transcurrido: 0.0000004768 segundos.\n",
            "Tiempo transcurrido: 0.0000004768 segundos.\n",
            "Tiempo transcurrido: 0.0000007153 segundos.\n",
            "Tiempo transcurrido: 0.0000002384 segundos.\n",
            "Tiempo transcurrido: 0.0000004768 segundos.\n"
          ],
          "name": "stdout"
        }
      ]
    },
    {
      "cell_type": "code",
      "metadata": {
        "id": "MIm6S20UAJ-I",
        "outputId": "ded816c9-8ac6-4837-f48f-b7080d4f2e94",
        "colab": {
          "base_uri": "https://localhost:8080/",
          "height": 195
        }
      },
      "source": [
        "\n",
        "from time import time\n",
        "def ejemplo5( x ):\n",
        "  start_time = time()\n",
        "  n = 10\n",
        "  for j in range( 0 , x , 1 ):\n",
        "    n = j + n\n",
        "  elapsed_time = time() - start_time\n",
        "  print(\"Tiempo transcurrido: %0.10f segundos.\" % elapsed_time)\n",
        "  return n\n",
        "for entrada in range(100,1100,100):\n",
        "  ejemplo5(entrada)"
      ],
      "execution_count": 5,
      "outputs": [
        {
          "output_type": "stream",
          "text": [
            "Tiempo transcurrido: 0.0000100136 segundos.\n",
            "Tiempo transcurrido: 0.0000166893 segundos.\n",
            "Tiempo transcurrido: 0.0000278950 segundos.\n",
            "Tiempo transcurrido: 0.0000379086 segundos.\n",
            "Tiempo transcurrido: 0.0000479221 segundos.\n",
            "Tiempo transcurrido: 0.0000514984 segundos.\n",
            "Tiempo transcurrido: 0.0000634193 segundos.\n",
            "Tiempo transcurrido: 0.0000660419 segundos.\n",
            "Tiempo transcurrido: 0.0000693798 segundos.\n",
            "Tiempo transcurrido: 0.0001044273 segundos.\n"
          ],
          "name": "stdout"
        }
      ]
    },
    {
      "cell_type": "code",
      "metadata": {
        "id": "eN73KJyYANA0",
        "outputId": "aa246bba-e0a7-43a2-d1b5-a727246c9037",
        "colab": {
          "base_uri": "https://localhost:8080/",
          "height": 195
        }
      },
      "source": [
        "from time import time\n",
        "def ejemplo6( n ):\n",
        "  start_time = time()\n",
        "  data=[[[1 for x in range(n)] for x in range(n)] for x in range(n)]\n",
        "  suma = 0\n",
        "  for d in range(n):\n",
        "    for r in range(n):\n",
        "      for c in range(n):\n",
        "        suma += data[d][r][c]\n",
        "    elapsed_time = time() - start_time\n",
        "    print(\"Tiempo transcurrido: %0.10f segundos.\" % elapsed_time)\n",
        "    return suma\n",
        "for entrada in range(100,1100,100):\n",
        "  ejemplo6(entrada)"
      ],
      "execution_count": 7,
      "outputs": [
        {
          "output_type": "stream",
          "text": [
            "Tiempo transcurrido: 0.0470759869 segundos.\n",
            "Tiempo transcurrido: 0.4384918213 segundos.\n",
            "Tiempo transcurrido: 1.5115404129 segundos.\n",
            "Tiempo transcurrido: 3.5972986221 segundos.\n",
            "Tiempo transcurrido: 7.3947665691 segundos.\n",
            "Tiempo transcurrido: 14.6324510574 segundos.\n",
            "Tiempo transcurrido: 25.3735342026 segundos.\n",
            "Tiempo transcurrido: 36.2897713184 segundos.\n",
            "Tiempo transcurrido: 51.1327412128 segundos.\n",
            "Tiempo transcurrido: 74.6929600239 segundos.\n"
          ],
          "name": "stdout"
        }
      ]
    }
  ]
}