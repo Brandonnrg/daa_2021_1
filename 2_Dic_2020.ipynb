{
  "nbformat": 4,
  "nbformat_minor": 0,
  "metadata": {
    "colab": {
      "name": "2-Dic-2020.ipynb",
      "provenance": [],
      "authorship_tag": "ABX9TyOSXBjF1g8R8Ef/MEYwrnr9",
      "include_colab_link": true
    },
    "kernelspec": {
      "name": "python3",
      "display_name": "Python 3"
    }
  },
  "cells": [
    {
      "cell_type": "markdown",
      "metadata": {
        "id": "view-in-github",
        "colab_type": "text"
      },
      "source": [
        "<a href=\"https://colab.research.google.com/github/Brandonnrg/daa_2021_1/blob/master/2_Dic_2020.ipynb\" target=\"_parent\"><img src=\"https://colab.research.google.com/assets/colab-badge.svg\" alt=\"Open In Colab\"/></a>"
      ]
    },
    {
      "cell_type": "code",
      "metadata": {
        "id": "iKOWYGR0_8mY"
      },
      "source": [
        "def fnRecInfinita():\n",
        "    print(\"Hola\")\n",
        "    fnRecInfinita()\n"
      ],
      "execution_count": 3,
      "outputs": []
    },
    {
      "cell_type": "code",
      "metadata": {
        "colab": {
          "base_uri": "https://localhost:8080/",
          "height": 168
        },
        "id": "iWMEJvLAARoz",
        "outputId": "975d0428-2b92-44e6-b4f3-3dbfd70232df"
      },
      "source": [
        "fnRecInfinita()"
      ],
      "execution_count": 1,
      "outputs": [
        {
          "output_type": "error",
          "ename": "NameError",
          "evalue": "ignored",
          "traceback": [
            "\u001b[0;31m---------------------------------------------------------------------------\u001b[0m",
            "\u001b[0;31mNameError\u001b[0m                                 Traceback (most recent call last)",
            "\u001b[0;32m<ipython-input-1-4781a1a79309>\u001b[0m in \u001b[0;36m<module>\u001b[0;34m()\u001b[0m\n\u001b[0;32m----> 1\u001b[0;31m \u001b[0mfnRecInfinita\u001b[0m\u001b[0;34m(\u001b[0m\u001b[0;34m)\u001b[0m\u001b[0;34m\u001b[0m\u001b[0;34m\u001b[0m\u001b[0m\n\u001b[0m",
            "\u001b[0;31mNameError\u001b[0m: name 'fnRecInfinita' is not defined"
          ]
        }
      ]
    },
    {
      "cell_type": "code",
      "metadata": {
        "colab": {
          "base_uri": "https://localhost:8080/"
        },
        "id": "s42yGH3DAVex",
        "outputId": "3d2283e5-f86b-4142-9e01-f92c7877d1be"
      },
      "source": [
        "def fnRec(x):\n",
        "    if x ==0:\n",
        "        print(\"Stop\")\n",
        "    else:\n",
        "        fnRec(x-1)\n",
        "        print(x)\n",
        "        \n",
        "def main():\n",
        "    print(\"Inicio del programa\")\n",
        "    fnRec(5)\n",
        "    print(\"Fin del programa\")\n",
        "\n",
        "main()"
      ],
      "execution_count": 2,
      "outputs": [
        {
          "output_type": "stream",
          "text": [
            "Inicio del programa\n",
            "Stop\n",
            "1\n",
            "2\n",
            "3\n",
            "4\n",
            "5\n",
            "Fin del programa\n"
          ],
          "name": "stdout"
        }
      ]
    },
    {
      "cell_type": "code",
      "metadata": {
        "colab": {
          "base_uri": "https://localhost:8080/"
        },
        "id": "kQNuHulvBap2",
        "outputId": "603a1013-a4fe-406c-896b-9ecf2006e53a"
      },
      "source": [
        "def printRev(x):\n",
        "    if x > 0:\n",
        "        printRev(x-1)\n",
        "        print(x)\n",
        "\n",
        "printRev(3)\n"
      ],
      "execution_count": 5,
      "outputs": [
        {
          "output_type": "stream",
          "text": [
            "1\n",
            "2\n",
            "3\n"
          ],
          "name": "stdout"
        }
      ]
    },
    {
      "cell_type": "code",
      "metadata": {
        "colab": {
          "base_uri": "https://localhost:8080/"
        },
        "id": "kzT7kmk7IutP",
        "outputId": "1f8e7276-d25f-449e-f58b-a26212a43e1a"
      },
      "source": [
        "def fibonacci(n):\n",
        "    if n == 1 or n == 0:\n",
        "        return n\n",
        "    else:\n",
        "        return (fibonacci(n-1)+ fibonacci(n-2))\n",
        "\n",
        "print(fibonacci(8))"
      ],
      "execution_count": 7,
      "outputs": [
        {
          "output_type": "stream",
          "text": [
            "21\n"
          ],
          "name": "stdout"
        }
      ]
    }
  ]
}