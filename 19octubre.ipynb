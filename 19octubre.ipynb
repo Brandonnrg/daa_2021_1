{
  "nbformat": 4,
  "nbformat_minor": 0,
  "metadata": {
    "colab": {
      "name": "19octubre.ipynb",
      "provenance": [],
      "authorship_tag": "ABX9TyNhxTbee5J2n+YgrBCpKExc",
      "include_colab_link": true
    },
    "kernelspec": {
      "name": "python3",
      "display_name": "Python 3"
    }
  },
  "cells": [
    {
      "cell_type": "markdown",
      "metadata": {
        "id": "view-in-github",
        "colab_type": "text"
      },
      "source": [
        "<a href=\"https://colab.research.google.com/github/Brandonnrg/daa_2021_1/blob/master/19octubre.ipynb\" target=\"_parent\"><img src=\"https://colab.research.google.com/assets/colab-badge.svg\" alt=\"Open In Colab\"/></a>"
      ]
    },
    {
      "cell_type": "code",
      "metadata": {
        "id": "D_-iDjJ4MPbL",
        "outputId": "38368101-4e7b-4a43-e7b2-a5b838509a44",
        "colab": {
          "base_uri": "https://localhost:8080/",
          "height": 284
        }
      },
      "source": [
        "a2d = [[3, 2, 1], \n",
        "      [6, 4, 8], \n",
        "      [7, 4, 2]]\n",
        "\n",
        "n = 3\n",
        "print (ad2)\n",
        "\n",
        "total = 0 # 1 \n",
        "print(\"nivel 1\")\n",
        "for ren in range (n):\n",
        "    sumaRenglon = 0 \n",
        "    print(\"nivel 2 \")\n",
        "    for col in range (n):\n",
        "      sumaRenglon += a2d[ren][col]\n",
        "      total += a2d[ren][col]\n",
        "      print(\"nivel 3\")\n",
        "\n",
        "print(total)"
      ],
      "execution_count": 8,
      "outputs": [
        {
          "output_type": "stream",
          "text": [
            "[[3, 2, 1], [6, 4, 8], [7, 4, 2]]\n",
            "nivel 1\n",
            "nivel 2 \n",
            "nivel 3\n",
            "nivel 3\n",
            "nivel 3\n",
            "nivel 2 \n",
            "nivel 3\n",
            "nivel 3\n",
            "nivel 3\n",
            "nivel 2 \n",
            "nivel 3\n",
            "nivel 3\n",
            "nivel 3\n",
            "37\n"
          ],
          "name": "stdout"
        }
      ]
    }
  ]
}